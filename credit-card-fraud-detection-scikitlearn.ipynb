{
  "cells": [
    {
      "metadata": {
        "collapsed": true,
        "_uuid": "8f2839f25d086af736a60e9eeb907d3b93b6e0e5",
        "_cell_guid": "b1076dfc-b9ad-4769-8c92-a6c4dae69d19",
        "trusted": false
      },
      "cell_type": "code",
      "source": "# This Python 3 environment comes with many helpful analytics libraries installed\n# It is defined by the kaggle/python docker image: https://github.com/kaggle/docker-python\n# For example, here's several helpful packages to load in \n\nimport numpy as np # linear algebra\nimport pandas as pd # data processing, CSV file I/O (e.g. pd.read_csv)\n\n# Input data files are available in the \"../input/\" directory.\n# For example, running this (by clicking run or pressing Shift+Enter) will list the files in the input directory\n\nimport os\nprint(os.listdir(\"../input\"))\n\n# Any results you write to the current directory are saved as output.",
      "execution_count": null,
      "outputs": []
    },
    {
      "metadata": {
        "_uuid": "d629ff2d2480ee46fbb7e2d37f6b5fab8052498a",
        "_cell_guid": "79c7e3d0-c299-4dcb-8224-4455121ee9b0",
        "trusted": true,
        "scrolled": true
      },
      "cell_type": "code",
      "source": "import numpy as np # linear algebra\nimport pandas as pd # data processing, CSV file I/O (e.g. pd.read_csv)\n# save filepath to variable for easier access\ncredit_card_path = '../input/creditcard.csv'\n# read the data and store data in DataFrame titled card_data\ncard_data = pd.read_csv(credit_card_path) \n# print a summary of the data in Card data\nprint(card_data.describe())\n",
      "execution_count": 5,
      "outputs": [
        {
          "output_type": "stream",
          "text": "                Time            V1            V2            V3            V4  \\\ncount  284807.000000  2.848070e+05  2.848070e+05  2.848070e+05  2.848070e+05   \nmean    94813.859575  3.919560e-15  5.688174e-16 -8.769071e-15  2.782312e-15   \nstd     47488.145955  1.958696e+00  1.651309e+00  1.516255e+00  1.415869e+00   \nmin         0.000000 -5.640751e+01 -7.271573e+01 -4.832559e+01 -5.683171e+00   \n25%     54201.500000 -9.203734e-01 -5.985499e-01 -8.903648e-01 -8.486401e-01   \n50%     84692.000000  1.810880e-02  6.548556e-02  1.798463e-01 -1.984653e-02   \n75%    139320.500000  1.315642e+00  8.037239e-01  1.027196e+00  7.433413e-01   \nmax    172792.000000  2.454930e+00  2.205773e+01  9.382558e+00  1.687534e+01   \n\n                 V5            V6            V7            V8            V9  \\\ncount  2.848070e+05  2.848070e+05  2.848070e+05  2.848070e+05  2.848070e+05   \nmean  -1.552563e-15  2.010663e-15 -1.694249e-15 -1.927028e-16 -3.137024e-15   \nstd    1.380247e+00  1.332271e+00  1.237094e+00  1.194353e+00  1.098632e+00   \nmin   -1.137433e+02 -2.616051e+01 -4.355724e+01 -7.321672e+01 -1.343407e+01   \n25%   -6.915971e-01 -7.682956e-01 -5.540759e-01 -2.086297e-01 -6.430976e-01   \n50%   -5.433583e-02 -2.741871e-01  4.010308e-02  2.235804e-02 -5.142873e-02   \n75%    6.119264e-01  3.985649e-01  5.704361e-01  3.273459e-01  5.971390e-01   \nmax    3.480167e+01  7.330163e+01  1.205895e+02  2.000721e+01  1.559499e+01   \n\n           ...                 V21           V22           V23           V24  \\\ncount      ...        2.848070e+05  2.848070e+05  2.848070e+05  2.848070e+05   \nmean       ...        1.537294e-16  7.959909e-16  5.367590e-16  4.458112e-15   \nstd        ...        7.345240e-01  7.257016e-01  6.244603e-01  6.056471e-01   \nmin        ...       -3.483038e+01 -1.093314e+01 -4.480774e+01 -2.836627e+00   \n25%        ...       -2.283949e-01 -5.423504e-01 -1.618463e-01 -3.545861e-01   \n50%        ...       -2.945017e-02  6.781943e-03 -1.119293e-02  4.097606e-02   \n75%        ...        1.863772e-01  5.285536e-01  1.476421e-01  4.395266e-01   \nmax        ...        2.720284e+01  1.050309e+01  2.252841e+01  4.584549e+00   \n\n                V25           V26           V27           V28         Amount  \\\ncount  2.848070e+05  2.848070e+05  2.848070e+05  2.848070e+05  284807.000000   \nmean   1.453003e-15  1.699104e-15 -3.660161e-16 -1.206049e-16      88.349619   \nstd    5.212781e-01  4.822270e-01  4.036325e-01  3.300833e-01     250.120109   \nmin   -1.029540e+01 -2.604551e+00 -2.256568e+01 -1.543008e+01       0.000000   \n25%   -3.171451e-01 -3.269839e-01 -7.083953e-02 -5.295979e-02       5.600000   \n50%    1.659350e-02 -5.213911e-02  1.342146e-03  1.124383e-02      22.000000   \n75%    3.507156e-01  2.409522e-01  9.104512e-02  7.827995e-02      77.165000   \nmax    7.519589e+00  3.517346e+00  3.161220e+01  3.384781e+01   25691.160000   \n\n               Class  \ncount  284807.000000  \nmean        0.001727  \nstd         0.041527  \nmin         0.000000  \n25%         0.000000  \n50%         0.000000  \n75%         0.000000  \nmax         1.000000  \n\n[8 rows x 31 columns]\n",
          "name": "stdout"
        }
      ]
    },
    {
      "metadata": {
        "trusted": true,
        "_uuid": "b65c9f94f87148755e3b7541fc5f98070702fff6"
      },
      "cell_type": "code",
      "source": "import pandas as pd\n\ncredit_card_path = '../input/creditcard.csv'\ncard_data = pd.read_csv(credit_card_path) \nprint(card_data.columns)",
      "execution_count": 7,
      "outputs": [
        {
          "output_type": "stream",
          "text": "Index(['Time', 'V1', 'V2', 'V3', 'V4', 'V5', 'V6', 'V7', 'V8', 'V9', 'V10',\n       'V11', 'V12', 'V13', 'V14', 'V15', 'V16', 'V17', 'V18', 'V19', 'V20',\n       'V21', 'V22', 'V23', 'V24', 'V25', 'V26', 'V27', 'V28', 'Amount',\n       'Class'],\n      dtype='object')\n",
          "name": "stdout"
        }
      ]
    },
    {
      "metadata": {
        "trusted": true,
        "_uuid": "5bb60e910dbad8f4407c6f87164c1c3316ca0c82"
      },
      "cell_type": "code",
      "source": "# store the class separately obtained from the data set\ncard_target_data = card_data.Class\n# the head command returns the top few lines of data.\nprint(card_target_data.head())",
      "execution_count": 9,
      "outputs": [
        {
          "output_type": "stream",
          "text": "0    0\n1    0\n2    0\n3    0\n4    0\nName: Class, dtype: int64\n",
          "name": "stdout"
        }
      ]
    },
    {
      "metadata": {
        "trusted": true,
        "_uuid": "c49d9ed7b5c76e15195c86387e786aeba896bb12"
      },
      "cell_type": "code",
      "source": "y = card_data.Class #target\ncard_predictors = ['Time', 'V1', 'V2', 'V3', 'V4', 'V5', 'V6', 'V7', 'V8', 'V9', 'V10',\n       'V11', 'V12', 'V13', 'V14', 'V15', 'V16', 'V17', 'V18', 'V19', 'V20',\n       'V21', 'V22', 'V23', 'V24', 'V25', 'V26', 'V27', 'V28', 'Amount']\nX = card_data[card_predictors]\nfrom sklearn.tree import DecisionTreeRegressor\n\n# Define model\ncard_model = DecisionTreeRegressor()\n\n# Fit model\ncard_model.fit(X, y)",
      "execution_count": 10,
      "outputs": [
        {
          "output_type": "execute_result",
          "execution_count": 10,
          "data": {
            "text/plain": "DecisionTreeRegressor(criterion='mse', max_depth=None, max_features=None,\n           max_leaf_nodes=None, min_impurity_decrease=0.0,\n           min_impurity_split=None, min_samples_leaf=1,\n           min_samples_split=2, min_weight_fraction_leaf=0.0,\n           presort=False, random_state=None, splitter='best')"
          },
          "metadata": {}
        }
      ]
    },
    {
      "metadata": {
        "trusted": true,
        "scrolled": true,
        "_uuid": "83c8f5c85db2e65d0c9e1bc521cf0d9f3fdce52c"
      },
      "cell_type": "code",
      "source": "print(\"Making predictions for the following 5 houses:\")\nprint(X.head())\nprint(\"The predictions are\")\nprint(card_model.predict(X.head()))",
      "execution_count": 11,
      "outputs": [
        {
          "output_type": "stream",
          "text": "Making predictions for the following 5 houses:\n   Time        V1        V2        V3        V4        V5        V6        V7  \\\n0   0.0 -1.359807 -0.072781  2.536347  1.378155 -0.338321  0.462388  0.239599   \n1   0.0  1.191857  0.266151  0.166480  0.448154  0.060018 -0.082361 -0.078803   \n2   1.0 -1.358354 -1.340163  1.773209  0.379780 -0.503198  1.800499  0.791461   \n3   1.0 -0.966272 -0.185226  1.792993 -0.863291 -0.010309  1.247203  0.237609   \n4   2.0 -1.158233  0.877737  1.548718  0.403034 -0.407193  0.095921  0.592941   \n\n         V8        V9   ...         V20       V21       V22       V23  \\\n0  0.098698  0.363787   ...    0.251412 -0.018307  0.277838 -0.110474   \n1  0.085102 -0.255425   ...   -0.069083 -0.225775 -0.638672  0.101288   \n2  0.247676 -1.514654   ...    0.524980  0.247998  0.771679  0.909412   \n3  0.377436 -1.387024   ...   -0.208038 -0.108300  0.005274 -0.190321   \n4 -0.270533  0.817739   ...    0.408542 -0.009431  0.798278 -0.137458   \n\n        V24       V25       V26       V27       V28  Amount  \n0  0.066928  0.128539 -0.189115  0.133558 -0.021053  149.62  \n1 -0.339846  0.167170  0.125895 -0.008983  0.014724    2.69  \n2 -0.689281 -0.327642 -0.139097 -0.055353 -0.059752  378.66  \n3 -1.175575  0.647376 -0.221929  0.062723  0.061458  123.50  \n4  0.141267 -0.206010  0.502292  0.219422  0.215153   69.99  \n\n[5 rows x 30 columns]\nThe predictions are\n[0. 0. 0. 0. 0.]\n",
          "name": "stdout"
        }
      ]
    },
    {
      "metadata": {
        "trusted": true,
        "_uuid": "d3a3cdd74ee8939f80a7d1f853bda95fae92edf4"
      },
      "cell_type": "code",
      "source": "#the above was bad because the training and testing was done on biased dataset\nfrom sklearn.model_selection import train_test_split\nimport sklearn\n\n# split data into training and validation data, for both predictors and target\n# The split is based on a random number generator. Supplying a numeric value to\n# the random_state argument guarantees we get the same split every time we\n# run this script.\ntrain_X, val_X, train_y, val_y = train_test_split(X, y,random_state = 0)\n# Define model\ncard_model = DecisionTreeRegressor()\n# Fit model\ncard_model.fit(train_X, train_y)\n\n# get predicted prices on validation data\nval_predictions = card_model.predict(val_X)\nprint(sklearn.metrics.mean_absolute_error(val_y, val_predictions))",
      "execution_count": 14,
      "outputs": [
        {
          "output_type": "stream",
          "text": "0.0008145838600039325\n",
          "name": "stdout"
        }
      ]
    },
    {
      "metadata": {
        "trusted": true,
        "_uuid": "07726f0149b3f95a00ada514c055b775ee9dac1f"
      },
      "cell_type": "code",
      "source": "from sklearn.metrics import mean_absolute_error\nfrom sklearn.tree import DecisionTreeRegressor\n\ndef get_mae(max_leaf_nodes, predictors_train, predictors_val, targ_train, targ_val):\n    model = DecisionTreeRegressor(max_leaf_nodes=max_leaf_nodes, random_state=0)\n    model.fit(predictors_train, targ_train)\n    preds_val = model.predict(predictors_val)\n    mae = mean_absolute_error(targ_val, preds_val)\n    return(mae)\n# compare MAE with differing values of max_leaf_nodes\nfor max_leaf_nodes in [5, 50, 500, 5000]:\n    my_mae = get_mae(max_leaf_nodes, train_X, val_X, train_y, val_y)\n    print(\"Max leaf nodes: %d  \\t\\t Mean Absolute Error:  %d\" %(max_leaf_nodes, my_mae))",
      "execution_count": 15,
      "outputs": [
        {
          "output_type": "stream",
          "text": "Max leaf nodes: 5  \t\t Mean Absolute Error:  0\nMax leaf nodes: 50  \t\t Mean Absolute Error:  0\nMax leaf nodes: 500  \t\t Mean Absolute Error:  0\nMax leaf nodes: 5000  \t\t Mean Absolute Error:  0\n",
          "name": "stdout"
        }
      ]
    },
    {
      "metadata": {
        "trusted": true,
        "_uuid": "13c935ec3f84475c45c254db3747d53677d8ddbf"
      },
      "cell_type": "code",
      "source": "from sklearn.ensemble import RandomForestRegressor\nfrom sklearn.metrics import mean_absolute_error\n\nforest_model = RandomForestRegressor()\nforest_model.fit(train_X, train_y)\nmelb_preds = forest_model.predict(val_X)\nprint(mean_absolute_error(val_y, melb_preds))",
      "execution_count": 16,
      "outputs": [
        {
          "output_type": "stream",
          "text": "0.0009311536192803572\n",
          "name": "stdout"
        }
      ]
    }
  ],
  "metadata": {
    "language_info": {
      "name": "python",
      "version": "3.6.5",
      "mimetype": "text/x-python",
      "codemirror_mode": {
        "name": "ipython",
        "version": 3
      },
      "pygments_lexer": "ipython3",
      "nbconvert_exporter": "python",
      "file_extension": ".py"
    },
    "kernelspec": {
      "display_name": "Python 3",
      "language": "python",
      "name": "python3"
    }
  },
  "nbformat": 4,
  "nbformat_minor": 1
}